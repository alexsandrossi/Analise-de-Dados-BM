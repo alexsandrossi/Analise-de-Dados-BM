{
 "cells": [
  {
   "cell_type": "markdown",
   "id": "3b281e5d",
   "metadata": {},
   "source": [
    "# Questão 01 "
   ]
  },
  {
   "cell_type": "markdown",
   "id": "4b333d15",
   "metadata": {},
   "source": [
    "**Unidade que mais Vendeu**"
   ]
  },
  {
   "cell_type": "code",
   "execution_count": 11,
   "id": "0ad81bea",
   "metadata": {},
   "outputs": [],
   "source": [
    "import pandas as pd\n",
    "import matplotlib.pyplot as gf\n",
    "import numpy as np\n",
    "\n",
    "dados_questão1 = pd.read_excel(\"questao1.xlsx\")\n",
    "dados_questão2 = pd.read_excel(\"questao2.xlsx\")"
   ]
  },
  {
   "cell_type": "code",
   "execution_count": 125,
   "id": "e5f53207",
   "metadata": {},
   "outputs": [
    {
     "data": {
      "text/plain": [
       "Loja Manicor é       4085\n",
       "Loj Lábrea           4072\n",
       "Loja Autazes         2713\n",
       "Loja itacoati_ara    1214\n",
       "Loja manAcaPuru       952\n",
       "Loja manAcaPuru       841\n",
       "Name: Filial, dtype: int64"
      ]
     },
     "metadata": {},
     "output_type": "display_data"
    }
   ],
   "source": [
    "unidade_que_mais_vendeu = dados_questão1[\"Filial\"].value_counts()\n",
    "display(unidade_que_mais_vendeu)"
   ]
  },
  {
   "cell_type": "code",
   "execution_count": 94,
   "id": "0e55fcb8",
   "metadata": {},
   "outputs": [
    {
     "data": {
      "image/png": "[encoded data removed]",
      "text/plain": [
       "<Figure size 432x288 with 1 Axes>"
      ]
     },
     "metadata": {
      "needs_background": "light"
     },
     "output_type": "display_data"
    }
   ],
   "source": [
    "venda = [4085,4072,2713,1214,952,841]\n",
    "unidade = ['Loj Manicoré', 'Loj Lábrea', 'Loja Autazes', 'Loj itacoatiara', 'Loja manAcaPuru', 'Loja manAcaPuru']\n",
    "\n",
    "gf.bar(unidade,venda, ls='solid', color='b', lw='15.0')\n",
    "gf.ylabel('Vendas')\n",
    "gf.xlabel('Unidade')\n",
    "gf.title('Unidade que mais Vendeu')\n",
    "gf.axis('auto')\n",
    "gf.legend(['vendas'])\n",
    "\n",
    "gf.show()"
   ]
  },
  {
   "cell_type": "markdown",
   "id": "ca867eb4",
   "metadata": {},
   "source": [
    "**Unidade que mais Vendeu foi a Loja Manicoré**"
   ]
  },
  {
   "cell_type": "markdown",
   "id": "a3edda21",
   "metadata": {},
   "source": [
    "## % CPF em Nota"
   ]
  },
  {
   "cell_type": "code",
   "execution_count": 178,
   "id": "dcbaafd8",
   "metadata": {},
   "outputs": [
    {
     "data": {
      "text/plain": [
       "Sim     85.811054\n",
       "Na~o    14.188946\n",
       "Name: CPF NA NOTA?, dtype: float64"
      ]
     },
     "metadata": {},
     "output_type": "display_data"
    }
   ],
   "source": [
    "cpf_nf = dados_questão1[\"CPF NA NOTA?\"].value_counts(dropna=False, normalize=True)*100\n",
    "display (cpf_nf)"
   ]
  },
  {
   "cell_type": "code",
   "execution_count": 116,
   "id": "15c4bd06",
   "metadata": {},
   "outputs": [
    {
     "data": {
      "image/png": "[encoded data removed]",
      "text/plain": [
       "<Figure size 432x288 with 1 Axes>"
      ]
     },
     "metadata": {
      "needs_background": "light"
     },
     "output_type": "display_data"
    }
   ],
   "source": [
    "cpf = ['nao', 'sim']\n",
    "tMed = [14,85]\n",
    "\n",
    "gf.bar(cpf,tMed, ls='solid', color='r', lw='15.0')\n",
    "gf.ylabel('Quantidade')\n",
    "gf.xlabel('CPF na NOTA')\n",
    "gf.title('% CPF NA NOTA')\n",
    "gf.axis('auto')\n",
    "\n",
    "gf.show()"
   ]
  },
  {
   "cell_type": "markdown",
   "id": "fbe4c225",
   "metadata": {},
   "source": [
    "**% de CPF em Nota: Não é 14.18% e de Sim é 85.81%**"
   ]
  },
  {
   "cell_type": "markdown",
   "id": "08b2dbd1",
   "metadata": {},
   "source": [
    "\n",
    "## % de Imposto"
   ]
  },
  {
   "cell_type": "code",
   "execution_count": 203,
   "id": "b03e4cde",
   "metadata": {
    "scrolled": true
   },
   "outputs": [
    {
     "data": {
      "text/plain": [
       "82442.88575999999"
      ]
     },
     "metadata": {},
     "output_type": "display_data"
    }
   ],
   "source": [
    "total_im = dados_questão1[\"Imposto\"].sum()\n",
    "display(total_im)"
   ]
  },
  {
   "cell_type": "markdown",
   "id": "2c70886e",
   "metadata": {},
   "source": [
    "O total de impostos é: 82.442,88"
   ]
  },
  {
   "cell_type": "code",
   "execution_count": 204,
   "id": "e19b74e2",
   "metadata": {
    "scrolled": true
   },
   "outputs": [
    {
     "data": {
      "text/plain": [
       "51396.29629629629"
      ]
     },
     "metadata": {},
     "output_type": "display_data"
    }
   ],
   "source": [
    "total_im = (dados_questão1[\"Imposto\"].value_counts().sum()/dados_questão1.shape[1])*100\n",
    "display(total_im)"
   ]
  },
  {
   "cell_type": "code",
   "execution_count": 124,
   "id": "7a8f0da3",
   "metadata": {},
   "outputs": [
    {
     "data": {
      "image/png": "[encoded data removed]",
      "text/plain": [
       "<Figure size 432x288 with 1 Axes>"
      ]
     },
     "metadata": {
      "needs_background": "light"
     },
     "output_type": "display_data"
    }
   ],
   "source": [
    "im = ['imposto']\n",
    "imm = [51]\n",
    "\n",
    "gf.bar(im,imm, ls='solid', color='#FF33D7', lw='10')\n",
    "gf.ylabel('Quantidade')\n",
    "gf.xlabel('% de Imposto')\n",
    "gf.title('% de Imposto')\n",
    "gf.axis('auto')\n",
    "\n",
    "gf.show()"
   ]
  },
  {
   "cell_type": "markdown",
   "id": "75a7a428",
   "metadata": {},
   "source": [
    "% de Imposto é 51%"
   ]
  },
  {
   "cell_type": "markdown",
   "id": "2f9421de",
   "metadata": {},
   "source": [
    "## % de Devoluções"
   ]
  },
  {
   "cell_type": "code",
   "execution_count": 171,
   "id": "2d541793",
   "metadata": {},
   "outputs": [
    {
     "data": {
      "text/plain": [
       "Não    50.169345\n",
       "Sim    49.830655\n",
       "Name: Produto Devolvido, dtype: float64"
      ]
     },
     "metadata": {},
     "output_type": "display_data"
    }
   ],
   "source": [
    "p_dev = dados_questão1[\"Produto Devolvido\"].value_counts(dropna=False, normalize=True)*100\n",
    "display (p_dev)"
   ]
  },
  {
   "cell_type": "code",
   "execution_count": 118,
   "id": "1b552a00",
   "metadata": {},
   "outputs": [
    {
     "data": {
      "image/png": "[encoded data removed]",
      "text/plain": [
       "<Figure size 432x288 with 1 Axes>"
      ]
     },
     "metadata": {
      "needs_background": "light"
     },
     "output_type": "display_data"
    }
   ],
   "source": [
    "dev = ['nao', 'sim']\n",
    "por = [50,49]\n",
    "\n",
    "gf.bar(dev,por, ls='solid', color='#3CFF33', lw='0.05')\n",
    "gf.ylabel('Quantidade')\n",
    "gf.xlabel('% de Devoluções')\n",
    "gf.title('% de Devoluções')\n",
    "gf.axis('auto')\n",
    "\n",
    "gf.show()"
   ]
  },
  {
   "cell_type": "markdown",
   "id": "698b1ccc",
   "metadata": {},
   "source": [
    "% de Devoluções:\n",
    "Não é 50,16% e de Sim é 49,83%"
   ]
  },
  {
   "cell_type": "markdown",
   "id": "c9aaa125",
   "metadata": {},
   "source": [
    "## Venda por Vendedor "
   ]
  },
  {
   "cell_type": "code",
   "execution_count": 90,
   "id": "d5a1405a",
   "metadata": {},
   "outputs": [
    {
     "name": "stdout",
     "output_type": "stream",
     "text": [
      "MARIA        440\n",
      "AUTO         381\n",
      "PATRICIA     190\n",
      "ANA          190\n",
      "JOSE         172\n",
      "            ... \n",
      "FERNANDES     17\n",
      "SAFIRA        17\n",
      "MEDEIROS      17\n",
      "SANTANA       17\n",
      "ALVES         17\n",
      "Name: nome, Length: 510, dtype: int64\n"
     ]
    }
   ],
   "source": [
    "vendas_por_vendedor = dados_questão1[\"nome\"].value_counts()\n",
    "print(vendas_por_vendedor)"
   ]
  },
  {
   "cell_type": "markdown",
   "id": "56effbe5",
   "metadata": {},
   "source": [
    "## Produto mais Vendido"
   ]
  },
  {
   "cell_type": "code",
   "execution_count": 172,
   "id": "4568cf02",
   "metadata": {},
   "outputs": [
    {
     "data": {
      "text/plain": [
       "SPLIT 18001 À 30000     103\n",
       "SPLIT 10001 À 18000     103\n",
       "GRILL                    25\n",
       "TANQUINHO/SEMI-AUTOM     25\n",
       "FERRO SECO               25\n",
       "                       ... \n",
       "HIPOGLICEMI ORAL SIM     11\n",
       "CREME DE MASSAGEM        11\n",
       "FORT D CABELOS E UNH     11\n",
       "DUCHA GINECOLÓGICA       11\n",
       "ACESS P/CORPO E BANH     11\n",
       "Name: Tipo de Mercadoria, Length: 857, dtype: int64"
      ]
     },
     "metadata": {},
     "output_type": "display_data"
    }
   ],
   "source": [
    "produto_mais_vendido = dados_questão1[\"Tipo de Mercadoria\"].value_counts()\n",
    "display(produto_mais_vendido)"
   ]
  },
  {
   "cell_type": "markdown",
   "id": "9e9f8ae0",
   "metadata": {},
   "source": [
    "**Os Produtos mais vendido foram SPLIT 18001 À 30000   e\n",
    "SPLIT 10001 À 18000**"
   ]
  },
  {
   "cell_type": "markdown",
   "id": "78c94b2d",
   "metadata": {},
   "source": [
    "## Questão 2"
   ]
  },
  {
   "cell_type": "markdown",
   "id": "64098b3d",
   "metadata": {},
   "source": [
    "**Quanto o Dinheiro de Volta rendeu em desconto**"
   ]
  },
  {
   "cell_type": "code",
   "execution_count": 214,
   "id": "779a885d",
   "metadata": {},
   "outputs": [
    {
     "data": {
      "text/plain": [
       "44553.75"
      ]
     },
     "metadata": {},
     "output_type": "display_data"
    }
   ],
   "source": [
    "total_im = dados_questão2[\"Dinheiro de Volta (Aplicado direto no total)\"].sum()\n",
    "display(total_im)"
   ]
  },
  {
   "cell_type": "markdown",
   "id": "45e8bf62",
   "metadata": {},
   "source": [
    "**O Dinheiro de Volta rendeu em desconto foi R$ 44.553,75**"
   ]
  }
 ],
 "metadata": {
  "kernelspec": {
   "display_name": "Python 3",
   "language": "python",
   "name": "python3"
  },
  "language_info": {
   "codemirror_mode": {
    "name": "ipython",
    "version": 3
   },
   "file_extension": ".py",
   "mimetype": "text/x-python",
   "name": "python",
   "nbconvert_exporter": "python",
   "pygments_lexer": "ipython3",
   "version": "3.8.8"
  }
 },
 "nbformat": 4,
 "nbformat_minor": 5
}
